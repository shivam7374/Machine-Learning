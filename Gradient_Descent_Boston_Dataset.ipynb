{
  "nbformat": 4,
  "nbformat_minor": 0,
  "metadata": {
    "colab": {
      "name": "Gradient Descent - Boston Dataset.ipynb",
      "provenance": [],
      "authorship_tag": "ABX9TyOrs1XOxeaItjj//IQW/B6U",
      "include_colab_link": true
    },
    "kernelspec": {
      "name": "python3",
      "display_name": "Python 3"
    },
    "language_info": {
      "name": "python"
    }
  },
  "cells": [
    {
      "cell_type": "markdown",
      "metadata": {
        "id": "view-in-github",
        "colab_type": "text"
      },
      "source": [
        "<a href=\"https://colab.research.google.com/github/shivam7374/Machine-Learning/blob/main/Gradient_Descent_Boston_Dataset.ipynb\" target=\"_parent\"><img src=\"https://colab.research.google.com/assets/colab-badge.svg\" alt=\"Open In Colab\"/></a>"
      ]
    },
    {
      "cell_type": "code",
      "execution_count": 1,
      "metadata": {
        "id": "3bTHYBZ-DZFB"
      },
      "outputs": [],
      "source": [
        "import numpy as np\n",
        "from sklearn import preprocessing\n",
        "from sklearn import model_selection\n",
        "training=np.loadtxt('datasets/train.csv', delimiter=',')\n",
        "testing=np.loadtxt('datasets/test.csv', delimiter=',')"
      ]
    },
    {
      "cell_type": "code",
      "source": [
        "def step_gradient(X, Y, m, learning_rate):\n",
        "    m_slope=np.zeros(len(X[0]))\n",
        "    for i in range(len(X)):\n",
        "        x=X[i]\n",
        "        y=Y[i]\n",
        "        for j in range(len(x)):\n",
        "            m_slope[j]+=(-2/len(X))*(y-sum(m*x))*x[j]\n",
        "    new_m=m-(learning_rate*m_slope)\n",
        "    return new_m\n",
        "\n",
        "def cost(m, x, y):\n",
        "    cost=0\n",
        "    for i in range(len(x)):\n",
        "        cost+=(1/len(x))*((y[i]-sum(m*x[i]))**2)\n",
        "    print(cost)\n",
        "\n",
        "def gd(x, y, learning_rate, iterations):\n",
        "    m=np.zeros(len(x[0]))\n",
        "    for i in range(iterations):\n",
        "        m=step_gradient(x, y, m, learning_rate)\n",
        "        print(\"itr= \", i, \"cost=\", end=' ')\n",
        "        cost(m, x, y)\n",
        "    return m\n",
        "\n",
        "def gradient_descent(x, y):\n",
        "    # iterations=300\n",
        "    iterations=10\n",
        "    learning_rate=0.005\n",
        "    x=np.append(x, np.ones(len(x)).reshape(-1, 1), axis=1)\n",
        "    m=gd(x, y, learning_rate, iterations)\n",
        "    return m"
      ],
      "metadata": {
        "id": "xAHRezX5Gt5g"
      },
      "execution_count": 2,
      "outputs": []
    },
    {
      "cell_type": "code",
      "source": [
        "x=training[:, :-1]\n",
        "y=training[:, -1]\n",
        "\n",
        "#adding squared values of each column\n",
        "\n",
        "sq=[]\n",
        "for i in range(len(x[0])):\n",
        "    for j in range(i, len(x[0])):\n",
        "        for k in range(j, len(x[0])):\n",
        "            sq.append(x[:, i]*x[:, j]*x[:, k])\n",
        "sq=np.array(sq)\n",
        "for i in sq:\n",
        "    x=np.append(x, i.reshape(-1, 1), axis=1)\n",
        "    \n",
        "#scaling\n",
        "\n",
        "scaler=preprocessing.StandardScaler()\n",
        "scaler.fit(x)\n",
        "x=scaler.transform(x)\n",
        "m=gradient_descent(x, y)"
      ],
      "metadata": {
        "colab": {
          "base_uri": "https://localhost:8080/"
        },
        "id": "9vMs2zNML70T",
        "outputId": "5c0d6962-6c9b-4e63-8ed7-e3caa6979bdf"
      },
      "execution_count": 3,
      "outputs": [
        {
          "output_type": "stream",
          "name": "stdout",
          "text": [
            "itr=  0 cost= 555.5709519239905\n",
            "itr=  1 cost= 536.8281815395738\n",
            "itr=  2 cost= 522.3654182705869\n",
            "itr=  3 cost= 509.41238391009455\n",
            "itr=  4 cost= 497.3884483826461\n",
            "itr=  5 cost= 486.05911623185307\n",
            "itr=  6 cost= 475.28518683353843\n",
            "itr=  7 cost= 464.97214159712007\n",
            "itr=  8 cost= 455.05214685679596\n",
            "itr=  9 cost= 445.47485625336253\n"
          ]
        }
      ]
    },
    {
      "cell_type": "code",
      "source": [
        "x.shape\n"
      ],
      "metadata": {
        "colab": {
          "base_uri": "https://localhost:8080/"
        },
        "id": "HJaP5S31L9qp",
        "outputId": "3870b6da-1709-4bad-9f5e-373eebb26fa8"
      },
      "execution_count": 4,
      "outputs": [
        {
          "output_type": "execute_result",
          "data": {
            "text/plain": [
              "(379, 468)"
            ]
          },
          "metadata": {},
          "execution_count": 4
        }
      ]
    },
    {
      "cell_type": "code",
      "source": [
        "sq=[]\n",
        "for i in range(len(testing[0])):\n",
        "    for j in range(i, len(testing[0])):\n",
        "        for k in range(j, len(testing[0])):\n",
        "            sq.append(testing[:, i]*testing[:, j]*testing[:, k])\n",
        "sq=np.array(sq)\n",
        "for i in sq:\n",
        "    testing=np.append(testing, i.reshape(-1, 1), axis=1)\n",
        "\n",
        "testing1=scaler.transform(testing)\n",
        "x_test=np.append(testing1, np.ones(len(testing1)).reshape(-1, 1), axis=1)\n",
        "ans=[]\n",
        "for i in x_test:\n",
        "    ans.append(sum(i*m))\n",
        "for i in ans:\n",
        "    print(i)\n",
        "ans=np.array(ans)\n",
        "np.savetxt(X=ans,fname='dataa.csv' , delimiter=',', fmt='%.5f')"
      ],
      "metadata": {
        "colab": {
          "base_uri": "https://localhost:8080/"
        },
        "id": "IaLAZmKzMIdf",
        "outputId": "7d5c209a-6527-45c5-8da6-c3f6641ee154"
      },
      "execution_count": 5,
      "outputs": [
        {
          "output_type": "stream",
          "name": "stdout",
          "text": [
            "-5.220611272504611\n",
            "4.838874082638039\n",
            "2.4697770405912034\n",
            "4.714029426107877\n",
            "2.7102005260008784\n",
            "-11.414926400472192\n",
            "5.180666693886675\n",
            "3.873855566624991\n",
            "2.4667819727269515\n",
            "3.187528514383108\n",
            "3.7812641051216143\n",
            "2.2823318044778396\n",
            "2.57767358065177\n",
            "2.8571931756806648\n",
            "18.73487641933246\n",
            "4.409425201547348\n",
            "4.162265595238869\n",
            "4.492904018047572\n",
            "2.571818358404151\n",
            "6.038796261964491\n",
            "2.9151229188729944\n",
            "2.6538651396554993\n",
            "7.016575857666085\n",
            "9.874352772519579\n",
            "12.765642985970315\n",
            "-2.9095564086596504\n",
            "2.9509912573033037\n",
            "8.030995949736942\n",
            "2.453085393691854\n",
            "5.460413953925466\n",
            "2.304967256588266\n",
            "3.8581936676984054\n",
            "2.7611473287065387\n",
            "3.8878407226593943\n",
            "-6.532296822538511\n",
            "4.6953090509136866\n",
            "4.875701424430028\n",
            "2.462484788758347\n",
            "4.00611704045956\n",
            "-11.080652490176082\n",
            "-12.811367481301701\n",
            "5.765466964436008\n",
            "8.828883241808423\n",
            "1.355381908217062\n",
            "-0.15324777579284454\n",
            "-17.826983154278693\n",
            "10.996508217860702\n",
            "3.303761363341927\n",
            "11.63620619359506\n",
            "-4.606288935134793\n",
            "-3.202170178684426\n",
            "19.51976581252449\n",
            "-4.269362003446612\n",
            "2.593531122223094\n",
            "2.0122176014310442\n",
            "2.937100606217653\n",
            "2.487959549840312\n",
            "3.1920223383935413\n",
            "1.7023905310906262\n",
            "-3.7877755344087802\n",
            "-5.217669994522756\n",
            "3.670935357748002\n",
            "3.954152556670202\n",
            "3.743213468863085\n",
            "-3.566346530870205\n",
            "-2.707535816808843\n",
            "12.248785953681626\n",
            "-4.187487439241804\n",
            "3.6248393403034918\n",
            "1.264832886995018\n",
            "5.482336588644026\n",
            "3.5294010138782586\n",
            "-1.7513844142555608\n",
            "-16.404619616726308\n",
            "14.235367292480921\n",
            "4.214884846801121\n",
            "5.582667495628998\n",
            "5.050398651637877\n",
            "-5.460814123545626\n",
            "12.000515937419886\n",
            "-1.295202062329662\n",
            "2.6313341180088745\n",
            "3.6563961667928258\n",
            "-0.11769083999287577\n",
            "-2.8814669501412\n",
            "7.3360996686453674\n",
            "4.639333761412004\n",
            "-15.943609692814766\n",
            "1.1059164337637806\n",
            "-1.6273150615954441\n",
            "3.1810671645711794\n",
            "2.552465353166106\n",
            "2.507095343493318\n",
            "-8.982637243714793\n",
            "2.6926847821206152\n",
            "4.774914781146389\n",
            "21.29135738222208\n",
            "0.18592360133133012\n",
            "11.246955206814764\n",
            "5.333170043070586\n",
            "5.901707374716589\n",
            "3.176406490986987\n",
            "5.0853332012377965\n",
            "6.0256018747155835\n",
            "-6.382351737723511\n",
            "4.108211481527499\n",
            "3.317504930199998\n",
            "17.095813495988217\n",
            "3.5964476456639773\n",
            "-4.502798113919472\n",
            "7.305439492550552\n",
            "-26.263372524406755\n",
            "1.7245965291676344\n",
            "-3.328668033233874\n",
            "10.281091196370399\n",
            "2.232039105709316\n",
            "2.7831095325463977\n",
            "3.4659503418995286\n",
            "3.5356073100148113\n",
            "-1.7238588404902644\n",
            "1.5043894510202134\n",
            "11.112194185896419\n",
            "2.9402545835748573\n",
            "3.5630399150668017\n",
            "1.3003973286538122\n",
            "2.4222603920819843\n",
            "-4.269588613864967\n"
          ]
        }
      ]
    },
    {
      "cell_type": "code",
      "source": [
        ""
      ],
      "metadata": {
        "id": "TVcrjF4OMSmU"
      },
      "execution_count": 5,
      "outputs": []
    }
  ]
}