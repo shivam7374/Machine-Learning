{
  "nbformat": 4,
  "nbformat_minor": 0,
  "metadata": {
    "colab": {
      "name": "Gradient Descent - Boston Dataset.ipynb",
      "provenance": [],
      "collapsed_sections": [],
      "authorship_tag": "ABX9TyPJoHGB25NG8NSg7YN5ST16",
      "include_colab_link": true
    },
    "kernelspec": {
      "name": "python3",
      "display_name": "Python 3"
    },
    "language_info": {
      "name": "python"
    }
  },
  "cells": [
    {
      "cell_type": "markdown",
      "metadata": {
        "id": "view-in-github",
        "colab_type": "text"
      },
      "source": [
        "<a href=\"https://colab.research.google.com/github/shivam7374/Machine-Learning/blob/main/Gradient_Descent_Boston_Dataset.ipynb\" target=\"_parent\"><img src=\"https://colab.research.google.com/assets/colab-badge.svg\" alt=\"Open In Colab\"/></a>"
      ]
    },
    {
      "cell_type": "code",
      "execution_count": 1,
      "metadata": {
        "id": "3bTHYBZ-DZFB"
      },
      "outputs": [],
      "source": [
        "import numpy as np\n",
        "from sklearn import preprocessing\n",
        "from sklearn import model_selection\n",
        "training=np.loadtxt('datasets/train.csv', delimiter=',')\n",
        "testing=np.loadtxt('datasets/test.csv', delimiter=',')\n"
      ]
    },
    {
      "cell_type": "code",
      "source": [
        "def step_gradient(X, Y, m, learning_rate):\n",
        "    m_slope=np.zeros(len(X[0]))\n",
        "    for i in range(len(X)):\n",
        "        x=X[i]\n",
        "        y=Y[i]\n",
        "        for j in range(len(x)):\n",
        "            m_slope[j]+=(-2/len(X))*(y-sum(m*x))*x[j]\n",
        "    new_m=m-(learning_rate*m_slope)\n",
        "    return new_m\n",
        "\n",
        "def cost(m, x, y):\n",
        "    cost=0\n",
        "    for i in range(len(x)):\n",
        "        cost+=(1/len(x))*((y[i]-sum(m*x[i]))**2)\n",
        "    print(cost)\n",
        "\n",
        "def gd(x, y, learning_rate, iterations):\n",
        "    m=np.zeros(len(x[0]))\n",
        "    for i in range(iterations):\n",
        "        m=step_gradient(x, y, m, learning_rate)\n",
        "        print(\"itr= \", i, \"cost=\", end=' ')\n",
        "        cost(m, x, y)\n",
        "    return m\n",
        "\n",
        "def gradient_descent(x, y):\n",
        "    iterations=300\n",
        "    # iterations=10\n",
        "    learning_rate=0.005\n",
        "    x=np.append(x, np.ones(len(x)).reshape(-1, 1), axis=1)\n",
        "    m=gd(x, y, learning_rate, iterations)\n",
        "    return m"
      ],
      "metadata": {
        "id": "xAHRezX5Gt5g"
      },
      "execution_count": 2,
      "outputs": []
    },
    {
      "cell_type": "code",
      "source": [
        "x=training[:, :-1]\n",
        "y=training[:, -1]\n",
        "\n",
        "#adding squared values of each column\n",
        "\n",
        "sq=[]\n",
        "for i in range(len(x[0])):\n",
        "    for j in range(i, len(x[0])):\n",
        "        for k in range(j, len(x[0])):\n",
        "            sq.append(x[:, i]*x[:, j]*x[:, k])\n",
        "sq=np.array(sq)\n",
        "for i in sq:\n",
        "    x=np.append(x, i.reshape(-1, 1), axis=1)\n",
        "    \n",
        "#scaling\n",
        "\n",
        "scaler=preprocessing.StandardScaler()\n",
        "scaler.fit(x)\n",
        "x=scaler.transform(x)\n",
        "m=gradient_descent(x, y)"
      ],
      "metadata": {
        "id": "9vMs2zNML70T",
        "colab": {
          "base_uri": "https://localhost:8080/"
        },
        "outputId": "b82ca839-256c-4ed2-c903-d05d1490a47b"
      },
      "execution_count": null,
      "outputs": [
        {
          "metadata": {
            "tags": null
          },
          "name": "stdout",
          "output_type": "stream",
          "text": [
            "itr=  0 cost= 555.5709519239905\n",
            "itr=  1 cost= 536.8281815395738\n",
            "itr=  2 cost= 522.3654182705869\n",
            "itr=  3 cost= 509.41238391009455\n",
            "itr=  4 cost= 497.3884483826461\n",
            "itr=  5 cost= 486.05911623185307\n",
            "itr=  6 cost= 475.28518683353843\n",
            "itr=  7 cost= 464.97214159712007\n",
            "itr=  8 cost= 455.05214685679596\n",
            "itr=  9 cost= 445.47485625336253\n",
            "itr=  10 cost= 436.20195381512633\n",
            "itr=  11 cost= 427.2036757931871\n",
            "itr=  12 cost= 418.4564868976975\n",
            "itr=  13 cost= 409.94147249539174\n",
            "itr=  14 cost= 401.64319629065125\n",
            "itr=  15 cost= 393.54887221269445\n",
            "itr=  16 cost= 385.64775470066655\n",
            "itr=  17 cost= 377.93068425242024\n",
            "itr=  18 cost= 370.38974528586294\n",
            "itr=  19 cost= 363.0180063544457\n",
            "itr=  20 cost= 355.80932141241095\n",
            "itr=  21 cost= 348.7581767484744\n",
            "itr=  22 cost= 341.85957234783945\n",
            "itr=  23 cost= 335.1089293867505\n",
            "itr=  24 cost= 328.5020176851686\n",
            "itr=  25 cost= 322.03489848836506\n",
            "itr=  26 cost= 315.70387908406815\n",
            "itr=  27 cost= 309.5054766033278\n",
            "itr=  28 cost= 303.43638898111254\n",
            "itr=  29 cost= 297.4934715240384\n",
            "itr=  30 cost= 291.6737178885602\n",
            "itr=  31 cost= 285.9742445432025\n",
            "itr=  32 cost= 280.3922779945359\n",
            "itr=  33 cost= 274.92514421466365\n",
            "itr=  34 cost= 269.5702598296305\n",
            "itr=  35 cost= 264.3251247222094\n",
            "itr=  36 cost= 259.18731577555747\n",
            "itr=  37 cost= 254.15448154105874\n",
            "itr=  38 cost= 249.2243376581713\n"
          ]
        }
      ]
    },
    {
      "cell_type": "code",
      "source": [
        "x.shape\n"
      ],
      "metadata": {
        "id": "HJaP5S31L9qp"
      },
      "execution_count": null,
      "outputs": []
    },
    {
      "cell_type": "code",
      "source": [
        "sq=[]\n",
        "for i in range(len(testing[0])):\n",
        "    for j in range(i, len(testing[0])):\n",
        "        for k in range(j, len(testing[0])):\n",
        "            sq.append(testing[:, i]*testing[:, j]*testing[:, k])\n",
        "sq=np.array(sq)\n",
        "for i in sq:\n",
        "    testing=np.append(testing, i.reshape(-1, 1), axis=1)\n",
        "\n",
        "testing1=scaler.transform(testing)\n",
        "x_test=np.append(testing1, np.ones(len(testing1)).reshape(-1, 1), axis=1)\n",
        "ans=[]\n",
        "for i in x_test:\n",
        "    ans.append(sum(i*m))\n",
        "for i in ans:\n",
        "    print(i)\n",
        "ans=np.array(ans)\n",
        "np.savetxt(X=ans,fname='dataa.csv' , delimiter=',', fmt='%.5f')"
      ],
      "metadata": {
        "id": "IaLAZmKzMIdf"
      },
      "execution_count": null,
      "outputs": []
    },
    {
      "cell_type": "code",
      "source": [
        ""
      ],
      "metadata": {
        "id": "TVcrjF4OMSmU"
      },
      "execution_count": null,
      "outputs": []
    }
  ]
}