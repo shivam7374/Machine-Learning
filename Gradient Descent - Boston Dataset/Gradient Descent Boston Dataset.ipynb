{
 "cells": [
  {
   "cell_type": "code",
   "execution_count": 1,
   "metadata": {},
   "outputs": [],
   "source": [
    "import numpy as np\n",
    "from sklearn import preprocessing\n",
    "from sklearn import model_selection\n",
    "training=np.loadtxt('D:/PCS Bank/sachin/CN/ML MEGA/10. Projects - Gradient Descent/10. Projects - Gradient Descent/1. Gradient Descent - Boston Dataset/train.csv', delimiter=',')\n",
    "testing=np.loadtxt('D:/PCS Bank/sachin/CN/ML MEGA/10. Projects - Gradient Descent/10. Projects - Gradient Descent/1. Gradient Descent - Boston Dataset/test.csv', delimiter=',')\n",
    "\n"
   ]
  },
  {
   "cell_type": "code",
   "execution_count": 2,
   "metadata": {},
   "outputs": [],
   "source": [
    "def step_gradient(X, Y, m, learning_rate):\n",
    "    # initilly assuming slopes to be zero\n",
    "    m_slope=np.zeros(len(X[0]))\n",
    "    for i in range(len(X)):\n",
    "        x=X[i]\n",
    "        y=Y[i]\n",
    "        # here x and y represent the single data point having n features\n",
    "        for j in range(len(x)):\n",
    "            # change in the value of the slope based on the jth feature of the data point x and y\n",
    "            m_slope[j]+=(-2/len(X))*(y-sum(m*x))*x[j]\n",
    "    # new slope \n",
    "    new_m=m-(learning_rate*m_slope)\n",
    "    return new_m\n",
    "\n",
    "def cost(m, x, y):\n",
    "    cost=0\n",
    "    for i in range(len(x)):\n",
    "        cost+=(1/len(x))*((y[i]-sum(m*x[i]))**2)\n",
    "    print(cost)\n",
    "\n",
    "def gd(x, y, learning_rate, iterations):\n",
    "    m=np.zeros(len(x[0]))\n",
    "    for i in range(iterations):\n",
    "        m=step_gradient(x, y, m, learning_rate)\n",
    "        print(\"itr= \", i, \"cost=\", end=' ')\n",
    "        cost(m, x, y)\n",
    "    return m\n",
    "\n",
    "def gradient_descent(x, y):\n",
    "    iterations=300\n",
    "    learning_rate=0.005\n",
    "    # here ones array is appended to represent the bais or term c in mx+c\n",
    "    x=np.append(x, np.ones(len(x)).reshape(-1, 1), axis=1)\n",
    "    m=gd(x, y, learning_rate, iterations)\n",
    "    return m\n"
   ]
  },
  {
   "cell_type": "code",
   "execution_count": 3,
   "metadata": {
    "scrolled": true
   },
   "outputs": [
    {
     "name": "stdout",
     "output_type": "stream",
     "text": [
      "itr=  0 cost= 555.5709519239905\n",
      "itr=  1 cost= 536.8281815395738\n",
      "itr=  2 cost= 522.3654182705869\n",
      "itr=  3 cost= 509.41238391009455\n",
      "itr=  4 cost= 497.3884483826461\n",
      "itr=  5 cost= 486.05911623185307\n",
      "itr=  6 cost= 475.28518683353843\n",
      "itr=  7 cost= 464.97214159712007\n",
      "itr=  8 cost= 455.05214685679596\n",
      "itr=  9 cost= 445.47485625336253\n",
      "itr=  10 cost= 436.20195381512633\n",
      "itr=  11 cost= 427.2036757931871\n",
      "itr=  12 cost= 418.4564868976975\n",
      "itr=  13 cost= 409.94147249539174\n",
      "itr=  14 cost= 401.64319629065125\n",
      "itr=  15 cost= 393.54887221269445\n",
      "itr=  16 cost= 385.64775470066655\n",
      "itr=  17 cost= 377.93068425242024\n",
      "itr=  18 cost= 370.38974528586294\n",
      "itr=  19 cost= 363.0180063544457\n",
      "itr=  20 cost= 355.80932141241095\n",
      "itr=  21 cost= 348.7581767484744\n",
      "itr=  22 cost= 341.85957234783945\n"
     ]
    }
   ],
   "source": [
    "x=training[:, :-1]\n",
    "y=training[:, -1]\n",
    "\n",
    "#adding squared values of each column\n",
    "\n",
    "sq=[]\n",
    "for i in range(len(x[0])):\n",
    "    for j in range(i, len(x[0])):\n",
    "        for k in range(j, len(x[0])):\n",
    "            sq.append(x[:, i]*x[:, j]*x[:, k])\n",
    "sq=np.array(sq)\n",
    "for i in sq:\n",
    "    x=np.append(x, i.reshape(-1, 1), axis=1)\n",
    "    \n",
    "#scaling\n",
    "\n",
    "scaler=preprocessing.StandardScaler()\n",
    "scaler.fit(x)\n",
    "x=scaler.transform(x)\n",
    "m=gradient_descent(x, y)"
   ]
  },
  {
   "cell_type": "code",
   "execution_count": null,
   "metadata": {},
   "outputs": [],
   "source": [
    "x.shape\n"
   ]
  },
  {
   "cell_type": "code",
   "execution_count": null,
   "metadata": {},
   "outputs": [],
   "source": [
    "sq=[]\n",
    "for i in range(len(testing[0])):\n",
    "    for j in range(i, len(testing[0])):\n",
    "        for k in range(j, len(testing[0])):\n",
    "            sq.append(testing[:, i]*testing[:, j]*testing[:, k])\n",
    "sq=np.array(sq)\n",
    "for i in sq:\n",
    "    testing=np.append(testing, i.reshape(-1, 1), axis=1)\n",
    "\n",
    "testing1=scaler.transform(testing)\n",
    "x_test=np.append(testing1, np.ones(len(testing1)).reshape(-1, 1), axis=1)\n",
    "ans=[]\n",
    "for i in x_test:\n",
    "    ans.append(sum(i*m))\n",
    "for i in ans:\n",
    "    print(i)\n",
    "ans=np.array(ans)\n",
    "np.savetxt(X=ans,fname='dataa.csv' , delimiter=',', fmt='%.5f')"
   ]
  },
  {
   "cell_type": "code",
   "execution_count": null,
   "metadata": {},
   "outputs": [],
   "source": []
  }
 ],
 "metadata": {
  "kernelspec": {
   "display_name": "Python 3",
   "language": "python",
   "name": "python3"
  },
  "language_info": {
   "codemirror_mode": {
    "name": "ipython",
    "version": 3
   },
   "file_extension": ".py",
   "mimetype": "text/x-python",
   "name": "python",
   "nbconvert_exporter": "python",
   "pygments_lexer": "ipython3",
   "version": "3.7.4"
  }
 },
 "nbformat": 4,
 "nbformat_minor": 2
}
