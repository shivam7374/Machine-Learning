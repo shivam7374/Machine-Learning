{
 "cells": [
  {
   "cell_type": "code",
   "execution_count": 2,
   "metadata": {},
   "outputs": [
    {
     "name": "stdout",
     "output_type": "stream",
     "text": [
      "0       Weisz, Mrs. Leopold (Mathilde Francoise Pede)\n",
      "1                   Williams, Mr. Howard Hugh \"Harry\"\n",
      "2      Morley, Mr. Henry Samuel (\"Mr Henry Marshall\")\n",
      "3         Palsson, Mrs. Nils (Alma Cornelia Berglund)\n",
      "4                              Sutehall, Mr. Henry Jr\n",
      "                            ...                      \n",
      "663                               Ilett, Miss. Bertha\n",
      "664                          Morrow, Mr. Thomas Rowan\n",
      "665                                     Bing, Mr. Lee\n",
      "666                       Strandberg, Miss. Ida Sofia\n",
      "667                    Murphy, Miss. Katherine \"Kate\"\n",
      "Name: Name, Length: 668, dtype: object\n"
     ]
    }
   ],
   "source": [
    "import numpy as np\n",
    "import pandas as pd\n",
    "from sklearn import preprocessing\n",
    "from sklearn import model_selection\n",
    "from sklearn.linear_model import LogisticRegression\n",
    "from sklearn.ensemble import RandomForestClassifier\n",
    "training=pd.read_csv('train.csv').copy()\n",
    "testing=pd.read_csv('test.csv').copy()\n",
    "# data_top = training.head() \n",
    "# print(training.loc[0]) # accesing a row\n",
    "print(training.loc[:,'Name']) # accesing a column"
   ]
  },
  {
   "cell_type": "code",
   "execution_count": 3,
   "metadata": {},
   "outputs": [],
   "source": [
    "def count_nulls(dataset):\n",
    "    return sum(dataset.isnull())"
   ]
  },
  {
   "cell_type": "code",
   "execution_count": 4,
   "metadata": {},
   "outputs": [],
   "source": [
    "def get_name(my_list, position):\n",
    "    # gets the first 3 character\n",
    "    return my_list[position][:4]"
   ]
  },
  {
   "cell_type": "code",
   "execution_count": 5,
   "metadata": {},
   "outputs": [
    {
     "name": "stdout",
     "output_type": "stream",
     "text": [
      "0       Mrs\n",
      "1       Mr.\n",
      "2       Mr.\n",
      "3       Mrs\n",
      "4       Mr.\n",
      "       ... \n",
      "663     Mis\n",
      "664     Mr.\n",
      "665     Mr.\n",
      "666     Mis\n",
      "667     Mis\n",
      "Name: Updated_Names, Length: 668, dtype: object\n"
     ]
    }
   ],
   "source": [
    "training['Updated_Names']=training['Name'].str.split(',').apply(get_name, position=1)\n",
    "print(training.loc[:,'Updated_Names']) # accesing a column\n",
    "training.drop('Name', axis=1, inplace=True)"
   ]
  },
  {
   "cell_type": "code",
   "execution_count": 6,
   "metadata": {},
   "outputs": [],
   "source": [
    "d=dict()\n",
    "count=0\n",
    "# print(len(set(training['Updated_Names'].loc[:])))\n",
    "for i in set(training['Updated_Names']):\n",
    "    # to define unique value for each distinct value in set of updated names\n",
    "    d[i]=count/15\n",
    "    # print(d[i])\n",
    "    count+=1\n",
    "training['Names']=training['Updated_Names'].map(d)\n",
    "training.drop('Updated_Names', axis=1, inplace=True)"
   ]
  },
  {
   "cell_type": "code",
   "execution_count": 7,
   "metadata": {},
   "outputs": [],
   "source": [
    "training['sex']=training['Sex'].map({\"female\":0, \"male\":1})\n",
    "training.drop('Sex', axis=1, inplace=True)"
   ]
  },
  {
   "cell_type": "code",
   "execution_count": 8,
   "metadata": {},
   "outputs": [],
   "source": [
    "training['pclass']=training['Pclass']/3\n",
    "training.drop('Pclass', axis=1, inplace=True)"
   ]
  },
  {
   "cell_type": "code",
   "execution_count": 9,
   "metadata": {},
   "outputs": [],
   "source": [
    "training.loc[training['Embarked'].isnull(), 'Embarked']='S'"
   ]
  },
  {
   "cell_type": "code",
   "execution_count": 10,
   "metadata": {},
   "outputs": [],
   "source": [
    "training['embarked']=training.Embarked.map({\"S\":0, \"C\":0.5, \"Q\":1})\n",
    "training.drop('Embarked', inplace=True, axis=1)"
   ]
  },
  {
   "cell_type": "code",
   "execution_count": 11,
   "metadata": {},
   "outputs": [],
   "source": [
    "training['fare']=training.Fare/training.Fare.max()\n",
    "training.drop('Fare', inplace=True, axis=1)"
   ]
  },
  {
   "cell_type": "code",
   "execution_count": 12,
   "metadata": {},
   "outputs": [],
   "source": [
    "training['parch']=training['Parch']/training['Parch'].max()\n",
    "training.drop('Parch', inplace=True, axis=1)"
   ]
  },
  {
   "cell_type": "code",
   "execution_count": 13,
   "metadata": {},
   "outputs": [],
   "source": [
    "training['sibsp']=training['SibSp']/training['SibSp'].max()\n",
    "training.drop('SibSp', inplace=True, axis=1)"
   ]
  },
  {
   "cell_type": "code",
   "execution_count": 14,
   "metadata": {},
   "outputs": [],
   "source": [
    "cabins=[]\n",
    "for i in training.loc[training['Cabin'].notnull(), 'Cabin']:\n",
    "    cabins.append(i[0])"
   ]
  },
  {
   "cell_type": "code",
   "execution_count": 15,
   "metadata": {},
   "outputs": [],
   "source": [
    "set_cabins=set(cabins)\n"
   ]
  },
  {
   "cell_type": "code",
   "execution_count": 16,
   "metadata": {},
   "outputs": [
    {
     "data": {
      "text/plain": [
       "{'C': 0.0,\n",
       " 'B': 0.125,\n",
       " 'D': 0.25,\n",
       " 'A': 0.375,\n",
       " 'G': 0.5,\n",
       " 'T': 0.625,\n",
       " 'E': 0.75,\n",
       " 'F': 0.875,\n",
       " 'N': 1}"
      ]
     },
     "execution_count": 16,
     "metadata": {},
     "output_type": "execute_result"
    }
   ],
   "source": [
    "dictionary_cabin=dict()\n",
    "count=0\n",
    "for i in set_cabins:\n",
    "    dictionary_cabin[i]=count/8\n",
    "    count+=1\n",
    "dictionary_cabin['N']=1\n",
    "dictionary_cabin"
   ]
  },
  {
   "cell_type": "code",
   "execution_count": 17,
   "metadata": {},
   "outputs": [],
   "source": [
    "training.loc[training.Cabin.isnull(), 'Cabin']='N'\n"
   ]
  },
  {
   "cell_type": "code",
   "execution_count": 18,
   "metadata": {},
   "outputs": [],
   "source": [
    "def cabin_mapping(get_list, position):\n",
    "    return get_list[position][0]\n",
    "training['cabin']=training.Cabin.str.split(' ').apply(cabin_mapping, position=0)\n",
    "# print(training['cabin'].loc[10:20])"
   ]
  },
  {
   "cell_type": "code",
   "execution_count": 19,
   "metadata": {},
   "outputs": [],
   "source": [
    "training.drop('Cabin', axis=1, inplace=True)"
   ]
  },
  {
   "cell_type": "code",
   "execution_count": 20,
   "metadata": {},
   "outputs": [],
   "source": [
    "training['cabins']=training.cabin.map(dictionary_cabin)\n",
    "training.drop('cabin', inplace=True, axis=1)"
   ]
  },
  {
   "cell_type": "code",
   "execution_count": 21,
   "metadata": {},
   "outputs": [],
   "source": [
    "def ticket_mapping(get_ticket, position):\n",
    "    if get_ticket[position]=='LINE':\n",
    "        return -1\n",
    "    return int(get_ticket[position])\n",
    "training['ticket']=training['Ticket'].str.split(' ').apply(ticket_mapping, position=-1)\n",
    "training.drop('Ticket', inplace=True, axis=1)"
   ]
  },
  {
   "cell_type": "code",
   "execution_count": 22,
   "metadata": {},
   "outputs": [],
   "source": [
    "training['tickets']=training['ticket']/training.ticket.max()\n",
    "training.drop('ticket', inplace=True, axis=1)"
   ]
  },
  {
   "cell_type": "code",
   "execution_count": 23,
   "metadata": {},
   "outputs": [],
   "source": [
    "training.loc[(training.Age.isnull())&(training['Survived']==0), 'Age']=training.loc[(training.Age.notnull())&(training['Survived']==0), 'Age'].median()\n"
   ]
  },
  {
   "cell_type": "code",
   "execution_count": 24,
   "metadata": {},
   "outputs": [],
   "source": [
    "training.loc[(training.Age.isnull())&(training['Survived']==1), 'Age']=training.loc[(training.Age.notnull())&(training['Survived']==1), 'Age'].median()\n"
   ]
  },
  {
   "cell_type": "code",
   "execution_count": 25,
   "metadata": {},
   "outputs": [],
   "source": [
    "training['age']=training.Age/80.0\n",
    "training.drop('Age', inplace=True, axis=1)"
   ]
  },
  {
   "cell_type": "code",
   "execution_count": 26,
   "metadata": {},
   "outputs": [
    {
     "data": {
      "text/html": [
       "<div>\n",
       "<style scoped>\n",
       "    .dataframe tbody tr th:only-of-type {\n",
       "        vertical-align: middle;\n",
       "    }\n",
       "\n",
       "    .dataframe tbody tr th {\n",
       "        vertical-align: top;\n",
       "    }\n",
       "\n",
       "    .dataframe thead th {\n",
       "        text-align: right;\n",
       "    }\n",
       "</style>\n",
       "<table border=\"1\" class=\"dataframe\">\n",
       "  <thead>\n",
       "    <tr style=\"text-align: right;\">\n",
       "      <th></th>\n",
       "      <th>Survived</th>\n",
       "      <th>Names</th>\n",
       "      <th>sex</th>\n",
       "      <th>pclass</th>\n",
       "      <th>embarked</th>\n",
       "      <th>fare</th>\n",
       "      <th>parch</th>\n",
       "      <th>sibsp</th>\n",
       "      <th>cabins</th>\n",
       "      <th>tickets</th>\n",
       "      <th>age</th>\n",
       "    </tr>\n",
       "  </thead>\n",
       "  <tbody>\n",
       "    <tr>\n",
       "      <td>0</td>\n",
       "      <td>1</td>\n",
       "      <td>0.000000</td>\n",
       "      <td>0</td>\n",
       "      <td>0.666667</td>\n",
       "      <td>0.0</td>\n",
       "      <td>0.050749</td>\n",
       "      <td>0.000000</td>\n",
       "      <td>0.125</td>\n",
       "      <td>1.0</td>\n",
       "      <td>0.073651</td>\n",
       "      <td>0.3625</td>\n",
       "    </tr>\n",
       "    <tr>\n",
       "      <td>1</td>\n",
       "      <td>0</td>\n",
       "      <td>0.066667</td>\n",
       "      <td>1</td>\n",
       "      <td>1.000000</td>\n",
       "      <td>0.0</td>\n",
       "      <td>0.015713</td>\n",
       "      <td>0.000000</td>\n",
       "      <td>0.000</td>\n",
       "      <td>1.0</td>\n",
       "      <td>0.000795</td>\n",
       "      <td>0.3625</td>\n",
       "    </tr>\n",
       "    <tr>\n",
       "      <td>2</td>\n",
       "      <td>0</td>\n",
       "      <td>0.066667</td>\n",
       "      <td>1</td>\n",
       "      <td>0.666667</td>\n",
       "      <td>0.0</td>\n",
       "      <td>0.050749</td>\n",
       "      <td>0.000000</td>\n",
       "      <td>0.000</td>\n",
       "      <td>1.0</td>\n",
       "      <td>0.080822</td>\n",
       "      <td>0.4875</td>\n",
       "    </tr>\n",
       "    <tr>\n",
       "      <td>3</td>\n",
       "      <td>0</td>\n",
       "      <td>0.000000</td>\n",
       "      <td>0</td>\n",
       "      <td>1.000000</td>\n",
       "      <td>0.0</td>\n",
       "      <td>0.041136</td>\n",
       "      <td>0.666667</td>\n",
       "      <td>0.000</td>\n",
       "      <td>1.0</td>\n",
       "      <td>0.112826</td>\n",
       "      <td>0.3625</td>\n",
       "    </tr>\n",
       "    <tr>\n",
       "      <td>4</td>\n",
       "      <td>0</td>\n",
       "      <td>0.066667</td>\n",
       "      <td>1</td>\n",
       "      <td>1.000000</td>\n",
       "      <td>0.0</td>\n",
       "      <td>0.013761</td>\n",
       "      <td>0.000000</td>\n",
       "      <td>0.000</td>\n",
       "      <td>1.0</td>\n",
       "      <td>0.126422</td>\n",
       "      <td>0.3125</td>\n",
       "    </tr>\n",
       "    <tr>\n",
       "      <td>...</td>\n",
       "      <td>...</td>\n",
       "      <td>...</td>\n",
       "      <td>...</td>\n",
       "      <td>...</td>\n",
       "      <td>...</td>\n",
       "      <td>...</td>\n",
       "      <td>...</td>\n",
       "      <td>...</td>\n",
       "      <td>...</td>\n",
       "      <td>...</td>\n",
       "      <td>...</td>\n",
       "    </tr>\n",
       "    <tr>\n",
       "      <td>663</td>\n",
       "      <td>1</td>\n",
       "      <td>0.400000</td>\n",
       "      <td>0</td>\n",
       "      <td>0.666667</td>\n",
       "      <td>0.0</td>\n",
       "      <td>0.020495</td>\n",
       "      <td>0.000000</td>\n",
       "      <td>0.000</td>\n",
       "      <td>1.0</td>\n",
       "      <td>0.004800</td>\n",
       "      <td>0.2125</td>\n",
       "    </tr>\n",
       "    <tr>\n",
       "      <td>664</td>\n",
       "      <td>0</td>\n",
       "      <td>0.066667</td>\n",
       "      <td>1</td>\n",
       "      <td>1.000000</td>\n",
       "      <td>1.0</td>\n",
       "      <td>0.015127</td>\n",
       "      <td>0.000000</td>\n",
       "      <td>0.000</td>\n",
       "      <td>1.0</td>\n",
       "      <td>0.120150</td>\n",
       "      <td>0.3625</td>\n",
       "    </tr>\n",
       "    <tr>\n",
       "      <td>665</td>\n",
       "      <td>1</td>\n",
       "      <td>0.066667</td>\n",
       "      <td>1</td>\n",
       "      <td>1.000000</td>\n",
       "      <td>0.0</td>\n",
       "      <td>0.110272</td>\n",
       "      <td>0.000000</td>\n",
       "      <td>0.000</td>\n",
       "      <td>1.0</td>\n",
       "      <td>0.000516</td>\n",
       "      <td>0.4000</td>\n",
       "    </tr>\n",
       "    <tr>\n",
       "      <td>666</td>\n",
       "      <td>0</td>\n",
       "      <td>0.400000</td>\n",
       "      <td>0</td>\n",
       "      <td>1.000000</td>\n",
       "      <td>0.0</td>\n",
       "      <td>0.019202</td>\n",
       "      <td>0.000000</td>\n",
       "      <td>0.000</td>\n",
       "      <td>1.0</td>\n",
       "      <td>0.002435</td>\n",
       "      <td>0.2750</td>\n",
       "    </tr>\n",
       "    <tr>\n",
       "      <td>667</td>\n",
       "      <td>1</td>\n",
       "      <td>0.400000</td>\n",
       "      <td>0</td>\n",
       "      <td>1.000000</td>\n",
       "      <td>1.0</td>\n",
       "      <td>0.030254</td>\n",
       "      <td>0.000000</td>\n",
       "      <td>0.125</td>\n",
       "      <td>1.0</td>\n",
       "      <td>0.118411</td>\n",
       "      <td>0.3500</td>\n",
       "    </tr>\n",
       "  </tbody>\n",
       "</table>\n",
       "<p>668 rows × 11 columns</p>\n",
       "</div>"
      ],
      "text/plain": [
       "     Survived     Names  sex    pclass  embarked      fare     parch  sibsp  \\\n",
       "0           1  0.000000    0  0.666667       0.0  0.050749  0.000000  0.125   \n",
       "1           0  0.066667    1  1.000000       0.0  0.015713  0.000000  0.000   \n",
       "2           0  0.066667    1  0.666667       0.0  0.050749  0.000000  0.000   \n",
       "3           0  0.000000    0  1.000000       0.0  0.041136  0.666667  0.000   \n",
       "4           0  0.066667    1  1.000000       0.0  0.013761  0.000000  0.000   \n",
       "..        ...       ...  ...       ...       ...       ...       ...    ...   \n",
       "663         1  0.400000    0  0.666667       0.0  0.020495  0.000000  0.000   \n",
       "664         0  0.066667    1  1.000000       1.0  0.015127  0.000000  0.000   \n",
       "665         1  0.066667    1  1.000000       0.0  0.110272  0.000000  0.000   \n",
       "666         0  0.400000    0  1.000000       0.0  0.019202  0.000000  0.000   \n",
       "667         1  0.400000    0  1.000000       1.0  0.030254  0.000000  0.125   \n",
       "\n",
       "     cabins   tickets     age  \n",
       "0       1.0  0.073651  0.3625  \n",
       "1       1.0  0.000795  0.3625  \n",
       "2       1.0  0.080822  0.4875  \n",
       "3       1.0  0.112826  0.3625  \n",
       "4       1.0  0.126422  0.3125  \n",
       "..      ...       ...     ...  \n",
       "663     1.0  0.004800  0.2125  \n",
       "664     1.0  0.120150  0.3625  \n",
       "665     1.0  0.000516  0.4000  \n",
       "666     1.0  0.002435  0.2750  \n",
       "667     1.0  0.118411  0.3500  \n",
       "\n",
       "[668 rows x 11 columns]"
      ]
     },
     "execution_count": 26,
     "metadata": {},
     "output_type": "execute_result"
    }
   ],
   "source": [
    "training"
   ]
  },
  {
   "cell_type": "code",
   "execution_count": 27,
   "metadata": {},
   "outputs": [
    {
     "name": "stdout",
     "output_type": "stream",
     "text": [
      "[[1.00000000e+00 0.00000000e+00 0.00000000e+00 ... 1.00000000e+00\n",
      "  7.36506458e-02 3.62500000e-01]\n",
      " [0.00000000e+00 6.66666667e-02 1.00000000e+00 ... 1.00000000e+00\n",
      "  7.95146062e-04 3.62500000e-01]\n",
      " [0.00000000e+00 6.66666667e-02 1.00000000e+00 ... 1.00000000e+00\n",
      "  8.08221152e-02 4.87500000e-01]\n",
      " ...\n",
      " [1.00000000e+00 6.66666667e-02 1.00000000e+00 ... 1.00000000e+00\n",
      "  5.16232297e-04 4.00000000e-01]\n",
      " [0.00000000e+00 4.00000000e-01 0.00000000e+00 ... 1.00000000e+00\n",
      "  2.43541695e-03 2.75000000e-01]\n",
      " [1.00000000e+00 4.00000000e-01 0.00000000e+00 ... 1.00000000e+00\n",
      "  1.18410985e-01 3.50000000e-01]]\n"
     ]
    }
   ],
   "source": [
    "values=training.values\n",
    "print(values)\n",
    "from sklearn.model_selection import train_test_split\n",
    "X=values[:, 1:]\n",
    "Y=values[:, 0]\n",
    "x_train, x_test, y_train, y_test=train_test_split(X, Y)"
   ]
  },
  {
   "cell_type": "code",
   "execution_count": 28,
   "metadata": {},
   "outputs": [
    {
     "data": {
      "text/plain": [
       "0.7544910179640718"
      ]
     },
     "execution_count": 28,
     "metadata": {},
     "output_type": "execute_result"
    }
   ],
   "source": [
    "clf=LogisticRegression(n_jobs=-1, solver=\"saga\", max_iter=20000, C=10, tol=0.000001, class_weight=\"balanced\")\n",
    "clf.fit(x_train, y_train)\n",
    "clf.score(x_test, y_test)"
   ]
  },
  {
   "cell_type": "code",
   "execution_count": 29,
   "metadata": {},
   "outputs": [
    {
     "data": {
      "text/plain": [
       "LogisticRegression(C=10, class_weight='balanced', dual=False,\n",
       "                   fit_intercept=True, intercept_scaling=1, l1_ratio=None,\n",
       "                   max_iter=20000, multi_class='warn', n_jobs=-1, penalty='l2',\n",
       "                   random_state=None, solver='saga', tol=1e-06, verbose=0,\n",
       "                   warm_start=False)"
      ]
     },
     "execution_count": 29,
     "metadata": {},
     "output_type": "execute_result"
    }
   ],
   "source": [
    "clf"
   ]
  },
  {
   "cell_type": "code",
   "execution_count": null,
   "metadata": {},
   "outputs": [],
   "source": []
  }
 ],
 "metadata": {
  "interpreter": {
   "hash": "9cd6022e10ffee125c9e0ed759adc45437dbe9c21820c7c05ae2ab5c7b42193a"
  },
  "kernelspec": {
   "display_name": "Python 3.7.4 ('base')",
   "language": "python",
   "name": "python3"
  },
  "language_info": {
   "codemirror_mode": {
    "name": "ipython",
    "version": 3
   },
   "file_extension": ".py",
   "mimetype": "text/x-python",
   "name": "python",
   "nbconvert_exporter": "python",
   "pygments_lexer": "ipython3",
   "version": "3.7.4"
  },
  "orig_nbformat": 4
 },
 "nbformat": 4,
 "nbformat_minor": 2
}
